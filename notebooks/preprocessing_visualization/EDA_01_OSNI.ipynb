{
 "cells": [
  {
   "cell_type": "code",
   "execution_count": 1,
   "id": "f3f5c22e-050d-455e-8cc8-85977df4e5cf",
   "metadata": {},
   "outputs": [],
   "source": [
    "#!pip install natsort\n",
    "#!pip install matplotlib\n",
    "#!pip install imageio"
   ]
  },
  {
   "cell_type": "code",
   "execution_count": 2,
   "id": "feb9737e-2307-4be5-ba74-036fa6372a46",
   "metadata": {},
   "outputs": [],
   "source": [
    "import os\n",
    "import natsort\n",
    "import imageio\n",
    "from matplotlib import pylab as plt\n",
    "import matplotlib.patches as patches\n",
    "\n",
    "path = \"/prm-mnt/osni/raw_data/Images/\""
   ]
  },
  {
   "cell_type": "code",
   "execution_count": 3,
   "id": "171ec07b-e096-4b7f-8a94-d64e09b05ef0",
   "metadata": {},
   "outputs": [
    {
     "name": "stdout",
     "output_type": "stream",
     "text": [
      " Drainage  'No Drainage'   Unknown\n"
     ]
    }
   ],
   "source": [
    "!ls /prm-mnt/osni/raw_data/Images/"
   ]
  },
  {
   "cell_type": "code",
   "execution_count": 4,
   "id": "a2de2de1-4c94-4d72-bc87-7714fdd87ba0",
   "metadata": {},
   "outputs": [],
   "source": [
    "# Parse the directory to get Drainage + \"NO Drainage\" files\n",
    "\n",
    "jpeg_files_path = [];\n",
    "xml_files_path = [];\n",
    "\n",
    "for subdir, dirs, files in os.walk(path):\n",
    "    for file in files:\n",
    "        if(\".jpg\" in file):\n",
    "            if(\"Unknown\" not in subdir):\n",
    "                jpeg_files_path.append(os.path.join(subdir, file))\n",
    "            \n",
    "for subdir, dirs, files in os.walk(path):\n",
    "    for file in files:\n",
    "        if(\".xml\" in file):\n",
    "            xml_files_path.append(os.path.join(subdir, file))\n",
    "            \n",
    "jpeg_files_path = natsort.natsorted(jpeg_files_path)\n",
    "xml_files_path = natsort.natsorted(xml_files_path)"
   ]
  },
  {
   "cell_type": "code",
   "execution_count": 5,
   "id": "ce6be711-72ed-4377-adc7-97f48e5204fd",
   "metadata": {},
   "outputs": [],
   "source": [
    "# Filter files with bounding boxes only\n",
    "\n",
    "pathsPair = [];\n",
    "for i in range(0, len(jpeg_files_path)):\n",
    "    pathTmp = \"\";\n",
    "    for j in range(0, len(xml_files_path)):\n",
    "        if(jpeg_files_path[i][:-4] in xml_files_path[j]):\n",
    "            pathTmp = xml_files_path[j];\n",
    "    pathsPair.append([jpeg_files_path[i], pathTmp]);"
   ]
  },
  {
   "cell_type": "code",
   "execution_count": 6,
   "id": "9413e5dd-7ece-4f5c-8d0f-ab96ede860dd",
   "metadata": {},
   "outputs": [
    {
     "name": "stdout",
     "output_type": "stream",
     "text": [
      "969 467\n"
     ]
    }
   ],
   "source": [
    "# Number of jpg files and xml files\n",
    "print (len(jpeg_files_path), len(xml_files_path))"
   ]
  },
  {
   "cell_type": "code",
   "execution_count": 7,
   "id": "ddf34249-8b16-4dc5-921d-d245829ffba6",
   "metadata": {},
   "outputs": [
    {
     "data": {
      "text/plain": [
       "'/prm-mnt/osni/raw_data/Images/Drainage/Track_B-Sphere-74.jpg'"
      ]
     },
     "execution_count": 7,
     "metadata": {},
     "output_type": "execute_result"
    }
   ],
   "source": [
    "# One path for a jpg file\n",
    "jpeg_files_path[0]"
   ]
  },
  {
   "cell_type": "code",
   "execution_count": 8,
   "id": "116bdaa1-648b-4350-922e-4715956e1241",
   "metadata": {},
   "outputs": [
    {
     "data": {
      "text/plain": [
       "['/prm-mnt/osni/raw_data/Images/Drainage/Track_B-Sphere-74.jpg',\n",
       " '/prm-mnt/osni/raw_data/Images/Drainage/Track_B-Sphere-74.xml']"
      ]
     },
     "execution_count": 8,
     "metadata": {},
     "output_type": "execute_result"
    }
   ],
   "source": [
    "# Paired list for \"Drainage\" only\n",
    "pathsPair[0]"
   ]
  },
  {
   "cell_type": "code",
   "execution_count": 9,
   "id": "ce33db6c-a0a3-4946-81f3-224a39e5b03b",
   "metadata": {},
   "outputs": [],
   "source": [
    "# Source: https://stackoverflow.com/a/53832130 by pix_1\n",
    "# Source 2: https://cv.gluon.ai/_modules/gluoncv/data/pascal_voc/detection.html#VOCDetection\n",
    "\n",
    "import xml.etree.ElementTree as ET\n",
    "\n",
    "def read_content(xml_file: str):\n",
    "\n",
    "    tree = ET.parse(xml_file)\n",
    "    root = tree.getroot()\n",
    "\n",
    "    list_with_all_boxes = []\n",
    "\n",
    "    for boxes in root.iter('object'):\n",
    "\n",
    "        filename = root.find('filename').text\n",
    "\n",
    "        ymin, xmin, ymax, xmax = None, None, None, None\n",
    "\n",
    "        ymin = int(boxes.find(\"bndbox/ymin\").text)\n",
    "        xmin = int(boxes.find(\"bndbox/xmin\").text)\n",
    "        ymax = int(boxes.find(\"bndbox/ymax\").text)\n",
    "        xmax = int(boxes.find(\"bndbox/xmax\").text)\n",
    "\n",
    "        list_with_single_boxes = [xmin, ymin, xmax, ymax]\n",
    "        list_with_all_boxes.append(list_with_single_boxes)\n",
    "\n",
    "    return filename, list_with_all_boxes"
   ]
  },
  {
   "cell_type": "code",
   "execution_count": 10,
   "id": "486c2a73-813f-4bad-bcbf-368b98c49848",
   "metadata": {},
   "outputs": [
    {
     "name": "stdout",
     "output_type": "stream",
     "text": [
      "['/prm-mnt/osni/raw_data/Images/Drainage/Track_B-Sphere-74.jpg', '/prm-mnt/osni/raw_data/Images/Drainage/Track_B-Sphere-74.xml']\n"
     ]
    }
   ],
   "source": [
    "# Example output\n",
    "name, boxes = read_content(pathsPair[0][1])\n",
    "print (pathsPair[0])"
   ]
  },
  {
   "cell_type": "code",
   "execution_count": 13,
   "id": "b9b8524a-cf2b-48c4-9940-3177fd09aee2",
   "metadata": {},
   "outputs": [
    {
     "data": {
      "text/plain": [
       "'Track_B-Sphere-74.jpg'"
      ]
     },
     "execution_count": 13,
     "metadata": {},
     "output_type": "execute_result"
    }
   ],
   "source": [
    "# Name from the XML\n",
    "name"
   ]
  },
  {
   "cell_type": "code",
   "execution_count": 14,
   "id": "36a5f3ac-07eb-45f5-ae59-83ed78ed5ead",
   "metadata": {},
   "outputs": [
    {
     "data": {
      "text/plain": [
       "[[2980, 2071, 3091, 2157], [4400, 2205, 4539, 2312]]"
      ]
     },
     "execution_count": 14,
     "metadata": {},
     "output_type": "execute_result"
    }
   ],
   "source": [
    "# Bounding box annotations\n",
    "boxes"
   ]
  },
  {
   "cell_type": "code",
   "execution_count": 16,
   "id": "9da3c781-9b88-4c87-b749-ba0b0c5a92b1",
   "metadata": {},
   "outputs": [
    {
     "name": "stdout",
     "output_type": "stream",
     "text": [
      "467\n"
     ]
    }
   ],
   "source": [
    "# Pairs with annotation only\n",
    "pairsWithAnnotationOnly = [];\n",
    "for i in range(0, len(pathsPair)):\n",
    "    if(pathsPair[i][1] != \"\"):\n",
    "        pairsWithAnnotationOnly.append(pathsPair[i])\n",
    "        \n",
    "print (len(pairsWithAnnotationOnly))"
   ]
  },
  {
   "cell_type": "code",
   "execution_count": null,
   "id": "c52de97a-9673-4f0e-8554-3d85fde8b9f5",
   "metadata": {},
   "outputs": [],
   "source": [
    "# Visualize five images with as example\n",
    "\n",
    "for i in [5,20,40,90,215]:\n",
    "    fig, ax = plt.subplots(figsize=(40,40))\n",
    "    \n",
    "    name, boxes = read_content(pairsWithAnnotationOnly[i][1])\n",
    "\n",
    "    for box in boxes:\n",
    "        # Create a Rectangle patch\n",
    "        rect = patches.Rectangle((box[0], box[1]), box[2]-box[0], box[3]-box[1], linewidth=1, edgecolor='r', facecolor='none')\n",
    "\n",
    "        # Add the patch to the Axes\n",
    "        ax.add_patch(rect)\n",
    "\n",
    "    plt.title(pairsWithAnnotationOnly[i][0])\n",
    "    plt.imshow(imageio.imread(pairsWithAnnotationOnly[i][0]))\n",
    "    plt.show()"
   ]
  },
  {
   "cell_type": "code",
   "execution_count": null,
   "id": "9e9d5253-9233-47b4-97aa-d5a94fe8035a",
   "metadata": {},
   "outputs": [],
   "source": []
  }
 ],
 "metadata": {
  "kernelspec": {
   "display_name": "Python 3",
   "language": "python",
   "name": "python3"
  },
  "language_info": {
   "codemirror_mode": {
    "name": "ipython",
    "version": 3
   },
   "file_extension": ".py",
   "mimetype": "text/x-python",
   "name": "python",
   "nbconvert_exporter": "python",
   "pygments_lexer": "ipython3",
   "version": "3.6.8"
  }
 },
 "nbformat": 4,
 "nbformat_minor": 5
}
